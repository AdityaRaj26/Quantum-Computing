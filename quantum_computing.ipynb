{
 "cells": [
  {
   "cell_type": "code",
   "execution_count": 36,
   "id": "61629753",
   "metadata": {},
   "outputs": [],
   "source": [
    "import matplotlib.pyplot as plt\n",
    "import numpy as np\n",
    "from qiskit import IBMQ, Aer, assemble, transpile, execute\n",
    "from qiskit import QuantumCircuit, ClassicalRegister, QuantumRegister\n",
    "from qiskit.providers.ibmq import least_busy\n",
    "from qiskit.visualization import plot_histogram\n",
    "from qiskit import BasicAer \n",
    "from qiskit.circuit.library import Diagonal\n",
    "from qiskit.quantum_info import Statevector, Operator, DensityMatrix, ScalarOp"
   ]
  },
  {
   "cell_type": "code",
   "execution_count": 37,
   "id": "b6d7eeaa",
   "metadata": {},
   "outputs": [],
   "source": [
    "resulting_circuit = QuantumCircuit(5)\n"
   ]
  },
  {
   "cell_type": "code",
   "execution_count": 38,
   "id": "b0323358",
   "metadata": {},
   "outputs": [
    {
     "data": {
      "text/plain": [
       "<qiskit.circuit.instructionset.InstructionSet at 0x25fff51f180>"
      ]
     },
     "execution_count": 38,
     "metadata": {},
     "output_type": "execute_result"
    }
   ],
   "source": [
    "resulting_circuit.h([0,1,2,3,4])"
   ]
  },
  {
   "cell_type": "code",
   "execution_count": 39,
   "id": "46b6877f",
   "metadata": {},
   "outputs": [
    {
     "name": "stdout",
     "output_type": "stream",
     "text": [
      "     ┌───┐\n",
      "q_0: ┤ H ├\n",
      "     ├───┤\n",
      "q_1: ┤ H ├\n",
      "     ├───┤\n",
      "q_2: ┤ H ├\n",
      "     ├───┤\n",
      "q_3: ┤ H ├\n",
      "     ├───┤\n",
      "q_4: ┤ H ├\n",
      "     └───┘\n"
     ]
    }
   ],
   "source": [
    "print(resulting_circuit)\n"
   ]
  },
  {
   "cell_type": "code",
   "execution_count": 40,
   "id": "4ffcee8a",
   "metadata": {},
   "outputs": [
    {
     "data": {
      "text/plain": [
       "<qiskit.circuit.instructionset.InstructionSet at 0x25fff579800>"
      ]
     },
     "execution_count": 40,
     "metadata": {},
     "output_type": "execute_result"
    }
   ],
   "source": [
    "diagonal1 = Statevector.from_label('11011')\n",
    "diagonal1_circuit = Diagonal((-1)**diagonal1.data)\n",
    "resulting_circuit.append(diagonal1_circuit, [0,1,2,3,4])"
   ]
  },
  {
   "cell_type": "code",
   "execution_count": 41,
   "id": "d065ed19",
   "metadata": {},
   "outputs": [
    {
     "data": {
      "text/plain": [
       "<qiskit.circuit.instructionset.InstructionSet at 0x25fff585a00>"
      ]
     },
     "execution_count": 41,
     "metadata": {},
     "output_type": "execute_result"
    }
   ],
   "source": [
    "diagonal2 = Statevector.from_label('11110')\n",
    "diagonal2_circuit = Diagonal((-1)**diagonal2.data)\n",
    "resulting_circuit.append(diagonal2_circuit, [0,1,2,3,4])"
   ]
  },
  {
   "cell_type": "code",
   "execution_count": 42,
   "id": "f2019c68",
   "metadata": {},
   "outputs": [
    {
     "data": {
      "text/plain": [
       "<qiskit.circuit.instructionset.InstructionSet at 0x25fff58cc00>"
      ]
     },
     "execution_count": 42,
     "metadata": {},
     "output_type": "execute_result"
    }
   ],
   "source": [
    "diagonal3 = Statevector.from_label('11001')\n",
    "diagonal3_circuit = Diagonal((-1)**diagonal3.data)\n",
    "resulting_circuit.append(diagonal3_circuit, [0,1,2,3,4])"
   ]
  },
  {
   "cell_type": "code",
   "execution_count": 43,
   "id": "9ae0e168",
   "metadata": {},
   "outputs": [
    {
     "data": {
      "text/plain": [
       "<qiskit.circuit.instructionset.InstructionSet at 0x25fff590180>"
      ]
     },
     "execution_count": 43,
     "metadata": {},
     "output_type": "execute_result"
    }
   ],
   "source": [
    "diagonal4 = Statevector.from_label('11010')\n",
    "diagonal4_circuit = Diagonal((-1)**diagonal4.data)\n",
    "resulting_circuit.append(diagonal4_circuit, [0,1,2,3,4])"
   ]
  },
  {
   "cell_type": "code",
   "execution_count": 44,
   "id": "27db0468",
   "metadata": {},
   "outputs": [
    {
     "data": {
      "text/plain": [
       "<qiskit.circuit.instructionset.InstructionSet at 0x25fff596940>"
      ]
     },
     "execution_count": 44,
     "metadata": {},
     "output_type": "execute_result"
    }
   ],
   "source": [
    "diagonal5 = Statevector.from_label('11000')\n",
    "diagonal5_circuit = Diagonal((-1)**diagonal5.data)\n",
    "resulting_circuit.append(diagonal5_circuit, [0,1,2,3,4])"
   ]
  },
  {
   "cell_type": "code",
   "execution_count": 45,
   "id": "1992468f",
   "metadata": {},
   "outputs": [
    {
     "name": "stdout",
     "output_type": "stream",
     "text": [
      "     ┌───┐┌───────────┐┌───────────┐┌───────────┐┌───────────┐┌───────────┐\n",
      "q_0: ┤ H ├┤0          ├┤0          ├┤0          ├┤0          ├┤0          ├\n",
      "     ├───┤│           ││           ││           ││           ││           │\n",
      "q_1: ┤ H ├┤1          ├┤1          ├┤1          ├┤1          ├┤1          ├\n",
      "     ├───┤│           ││           ││           ││           ││           │\n",
      "q_2: ┤ H ├┤2 Diagonal ├┤2 Diagonal ├┤2 Diagonal ├┤2 Diagonal ├┤2 Diagonal ├\n",
      "     ├───┤│           ││           ││           ││           ││           │\n",
      "q_3: ┤ H ├┤3          ├┤3          ├┤3          ├┤3          ├┤3          ├\n",
      "     ├───┤│           ││           ││           ││           ││           │\n",
      "q_4: ┤ H ├┤4          ├┤4          ├┤4          ├┤4          ├┤4          ├\n",
      "     └───┘└───────────┘└───────────┘└───────────┘└───────────┘└───────────┘\n"
     ]
    }
   ],
   "source": [
    "print(resulting_circuit)\n"
   ]
  },
  {
   "cell_type": "code",
   "execution_count": 46,
   "id": "9ca85596",
   "metadata": {},
   "outputs": [
    {
     "data": {
      "text/plain": [
       "<qiskit.circuit.instructionset.InstructionSet at 0x25fff59a740>"
      ]
     },
     "execution_count": 46,
     "metadata": {},
     "output_type": "execute_result"
    }
   ],
   "source": [
    "resulting_circuit.h([0,1,2,3,4])\n",
    "resulting_circuit.x([0,1,2,3,4])\n",
    "\n",
    "resulting_circuit.h(4)\n",
    "resulting_circuit.mct([0,1,2,3], 4) \n",
    "resulting_circuit.h(4)\n",
    "\n",
    "resulting_circuit.x([0,1,2,3,4])\n",
    "resulting_circuit.h([0,1,2,3,4])"
   ]
  },
  {
   "cell_type": "code",
   "execution_count": 47,
   "id": "070559cc",
   "metadata": {},
   "outputs": [
    {
     "name": "stdout",
     "output_type": "stream",
     "text": [
      "     ┌───┐┌───────────┐┌───────────┐┌───────────┐┌───────────┐┌───────────┐»\n",
      "q_0: ┤ H ├┤0          ├┤0          ├┤0          ├┤0          ├┤0          ├»\n",
      "     ├───┤│           ││           ││           ││           ││           │»\n",
      "q_1: ┤ H ├┤1          ├┤1          ├┤1          ├┤1          ├┤1          ├»\n",
      "     ├───┤│           ││           ││           ││           ││           │»\n",
      "q_2: ┤ H ├┤2 Diagonal ├┤2 Diagonal ├┤2 Diagonal ├┤2 Diagonal ├┤2 Diagonal ├»\n",
      "     ├───┤│           ││           ││           ││           ││           │»\n",
      "q_3: ┤ H ├┤3          ├┤3          ├┤3          ├┤3          ├┤3          ├»\n",
      "     ├───┤│           ││           ││           ││           ││           │»\n",
      "q_4: ┤ H ├┤4          ├┤4          ├┤4          ├┤4          ├┤4          ├»\n",
      "     └───┘└───────────┘└───────────┘└───────────┘└───────────┘└───────────┘»\n",
      "«     ┌───┐┌───┐          ┌───┐┌───┐     \n",
      "«q_0: ┤ H ├┤ X ├───────■──┤ X ├┤ H ├─────\n",
      "«     ├───┤├───┤       │  ├───┤├───┤     \n",
      "«q_1: ┤ H ├┤ X ├───────■──┤ X ├┤ H ├─────\n",
      "«     ├───┤├───┤       │  ├───┤├───┤     \n",
      "«q_2: ┤ H ├┤ X ├───────■──┤ X ├┤ H ├─────\n",
      "«     ├───┤├───┤       │  ├───┤├───┤     \n",
      "«q_3: ┤ H ├┤ X ├───────■──┤ X ├┤ H ├─────\n",
      "«     ├───┤├───┤┌───┐┌─┴─┐├───┤├───┤┌───┐\n",
      "«q_4: ┤ H ├┤ X ├┤ H ├┤ X ├┤ H ├┤ X ├┤ H ├\n",
      "«     └───┘└───┘└───┘└───┘└───┘└───┘└───┘\n"
     ]
    }
   ],
   "source": [
    "print(resulting_circuit)\n"
   ]
  },
  {
   "cell_type": "code",
   "execution_count": 48,
   "id": "ca448c15",
   "metadata": {},
   "outputs": [
    {
     "name": "stdout",
     "output_type": "stream",
     "text": [
      "Statevector([ 0.+0.00000000e+00j,  0.+0.00000000e+00j,  0.+0.00000000e+00j,\n",
      "              0.+0.00000000e+00j,  0.+0.00000000e+00j,  0.+0.00000000e+00j,\n",
      "              0.+0.00000000e+00j,  0.+0.00000000e+00j,  0.+0.00000000e+00j,\n",
      "              0.+0.00000000e+00j,  0.+0.00000000e+00j,  0.+0.00000000e+00j,\n",
      "              0.+0.00000000e+00j,  0.+0.00000000e+00j,  0.+0.00000000e+00j,\n",
      "              0.+0.00000000e+00j,  0.+0.00000000e+00j,  0.+0.00000000e+00j,\n",
      "              0.+0.00000000e+00j,  0.+0.00000000e+00j,  0.+0.00000000e+00j,\n",
      "              0.+0.00000000e+00j,  0.+0.00000000e+00j,  0.+0.00000000e+00j,\n",
      "              0.+0.00000000e+00j,  0.+0.00000000e+00j, -1.-2.76805489e-15j,\n",
      "              0.+0.00000000e+00j,  0.+0.00000000e+00j,  0.+0.00000000e+00j,\n",
      "              0.+0.00000000e+00j,  0.+0.00000000e+00j],\n",
      "            dims=(2, 2, 2, 2, 2))\n"
     ]
    }
   ],
   "source": [
    "statevector_sim = Aer.get_backend('statevector_simulator')\n",
    "job = execute(final_circuit, statevector_sim)\n",
    "result = job.result()\n",
    "sv = result.get_statevector()\n",
    "print(sv)"
   ]
  },
  {
   "cell_type": "code",
   "execution_count": 49,
   "id": "fbbd6524",
   "metadata": {},
   "outputs": [
    {
     "name": "stdout",
     "output_type": "stream",
     "text": [
      "     ┌───┐┌───────────┐┌───────────┐┌───────────┐┌───────────┐┌───────────┐»\n",
      "q_0: ┤ H ├┤0          ├┤0          ├┤0          ├┤0          ├┤0          ├»\n",
      "     ├───┤│           ││           ││           ││           ││           │»\n",
      "q_1: ┤ H ├┤1          ├┤1          ├┤1          ├┤1          ├┤1          ├»\n",
      "     ├───┤│           ││           ││           ││           ││           │»\n",
      "q_2: ┤ H ├┤2 Diagonal ├┤2 Diagonal ├┤2 Diagonal ├┤2 Diagonal ├┤2 Diagonal ├»\n",
      "     ├───┤│           ││           ││           ││           ││           │»\n",
      "q_3: ┤ H ├┤3          ├┤3          ├┤3          ├┤3          ├┤3          ├»\n",
      "     ├───┤│           ││           ││           ││           ││           │»\n",
      "q_4: ┤ H ├┤4          ├┤4          ├┤4          ├┤4          ├┤4          ├»\n",
      "     └───┘└───────────┘└───────────┘└───────────┘└───────────┘└───────────┘»\n",
      "«     ┌───┐┌───┐          ┌───┐┌───┐     \n",
      "«q_0: ┤ H ├┤ X ├───────■──┤ X ├┤ H ├─────\n",
      "«     ├───┤├───┤       │  ├───┤├───┤     \n",
      "«q_1: ┤ H ├┤ X ├───────■──┤ X ├┤ H ├─────\n",
      "«     ├───┤├───┤       │  ├───┤├───┤     \n",
      "«q_2: ┤ H ├┤ X ├───────■──┤ X ├┤ H ├─────\n",
      "«     ├───┤├───┤       │  ├───┤├───┤     \n",
      "«q_3: ┤ H ├┤ X ├───────■──┤ X ├┤ H ├─────\n",
      "«     ├───┤├───┤┌───┐┌─┴─┐├───┤├───┤┌───┐\n",
      "«q_4: ┤ H ├┤ X ├┤ H ├┤ X ├┤ H ├┤ X ├┤ H ├\n",
      "«     └───┘└───┘└───┘└───┘└───┘└───┘└───┘\n"
     ]
    }
   ],
   "source": [
    "final_circuit.measure_all()\n",
    "print(resulting_circuit)\n"
   ]
  },
  {
   "cell_type": "code",
   "execution_count": 50,
   "id": "4e04643a",
   "metadata": {},
   "outputs": [
    {
     "data": {
      "image/png": "[encoded data removed]",
      "text/plain": [
       "<Figure size 504x360 with 1 Axes>"
      ]
     },
     "execution_count": 50,
     "metadata": {},
     "output_type": "execute_result"
    }
   ],
   "source": [
    "aer_sim = Aer.get_backend('aer_simulator')\n",
    "transpiled_resulting_circuit = transpile(resulting_circuit, aer_sim)\n",
    "qobj = assemble(transpiled_final_circuit)\n",
    "outputs = aer_sim.run(qobj).result()\n",
    "counts = outputs.get_counts()\n",
    "plot_histogram(counts)"
   ]
  },
  {
   "cell_type": "code",
   "execution_count": null,
   "id": "d08a35c8",
   "metadata": {},
   "outputs": [],
   "source": []
  }
 ],
 "metadata": {
  "kernelspec": {
   "display_name": "Python 3 (ipykernel)",
   "language": "python",
   "name": "python3"
  },
  "language_info": {
   "codemirror_mode": {
    "name": "ipython",
    "version": 3
   },
   "file_extension": ".py",
   "mimetype": "text/x-python",
   "name": "python",
   "nbconvert_exporter": "python",
   "pygments_lexer": "ipython3",
   "version": "3.9.7"
  }
 },
 "nbformat": 4,
 "nbformat_minor": 5
}
